{
  "nbformat": 4,
  "nbformat_minor": 0,
  "metadata": {
    "colab": {
      "provenance": [],
      "authorship_tag": "ABX9TyOc1SNOmGeRbxUlKcWoRl7O",
      "include_colab_link": true
    },
    "kernelspec": {
      "name": "python3",
      "display_name": "Python 3"
    },
    "language_info": {
      "name": "python"
    }
  },
  "cells": [
    {
      "cell_type": "markdown",
      "metadata": {
        "id": "view-in-github",
        "colab_type": "text"
      },
      "source": [
        "<a href=\"https://colab.research.google.com/github/alexsimas07/Modelo_Preditivo_Deteccao_fraude_financeira/blob/main/Deteccao_Fraude_financeira.ipynb\" target=\"_parent\"><img src=\"https://colab.research.google.com/assets/colab-badge.svg\" alt=\"Open In Colab\"/></a>"
      ]
    },
    {
      "cell_type": "markdown",
      "source": [
        "## Modelo de detecção de fraude para dados financeiros\n",
        "\n",
        "Sobre nosso dataset:\n",
        "\n",
        "* Step = mapeia uma unidade de tempo no mundo real. Neste caso, 1 passo é 1 hora de tempo. Total de etpas 744 (simulação de 30 dias).\n",
        "* Type = CASH-IN, CASH-OUT, DEBIT, PAYMENT and TRANSFER.\n",
        "* amount = valor da transação em moeda local.\n",
        "* nameOrig = Cliente que iniciou a transação\n",
        "* oldbalanceOrig = saldo inicial antes da transação\n",
        "* newbalanceOrig = novo saldo após a transação\n",
        "* nameDest = cliente que é o destinatário da transação\n",
        "* oldbalanceDest = destinatário do saldo inicial antes da transação\n",
        "* newbalanceDest = Novo destinatário do saldo após a transação.\n",
        "* isFraud = São as transações feitas pelos agentes fraudulentos dentro da simulação. Neste conjunto de dados especifico, o comportamento fraudulento dos agentes visa lucar ao assumir o controle das contas dos clientes e tentar esvaziar os fundos transferidos para outra conta e depois sacando do sistema.\n",
        "* isFlaggedFraud = O modelo de negócio visa controlar transferências massivas de uma conta para outra e sinaliza tentativas ilegais. Uma tentativa ilegal neste conjunto de dados é uma tentativa de transferir mais de 200.000 em uma única transação.\n",
        "\n"
      ],
      "metadata": {
        "id": "G1V1JOg7Qz3L"
      }
    },
    {
      "cell_type": "code",
      "execution_count": null,
      "metadata": {
        "id": "lYJ53Dv-PfYE"
      },
      "outputs": [],
      "source": [
        "# importando as bibliotecas\n",
        "import pandas as pd\n",
        "import numpy as np\n",
        "import matplotlib.pyplot as plt\n",
        "import seaborn as sns"
      ]
    },
    {
      "cell_type": "code",
      "source": [
        "df = pd.read_csv(\"/content/fraud_dataset_example.csv\")\n",
        "df.head()"
      ],
      "metadata": {
        "id": "srFf4s7cTRal"
      },
      "execution_count": null,
      "outputs": []
    },
    {
      "cell_type": "code",
      "source": [
        "df.columns"
      ],
      "metadata": {
        "id": "IGTvjvTkTVrE"
      },
      "execution_count": null,
      "outputs": []
    },
    {
      "cell_type": "code",
      "source": [
        "df = df[['isFraud','isFlaggedFraud','step', 'type', 'amount', 'nameOrig', 'oldbalanceOrg', 'newbalanceOrig',\n",
        "       'nameDest', 'oldbalanceDest', 'newbalanceDest', ]]\n",
        "df.head()"
      ],
      "metadata": {
        "id": "CaVJ0Eh8Tihd"
      },
      "execution_count": null,
      "outputs": []
    },
    {
      "cell_type": "code",
      "source": [
        "# Renomeando as colunas\n",
        "colunas = {\n",
        "    'isFraud':'fraude',\n",
        "    'isFlaggedFraud':'possivel_fraude',\n",
        "    'step':'tempo',\n",
        "    'type':'tipo',\n",
        "    'amount':'valor',\n",
        "    'nameOrig':'cliente1',\n",
        "    'oldbalanceOrg':'saldo_inicial_c1',\n",
        "    'newbalanceOrig':'novo_saldo_c1',\n",
        "    'nameDest':'cliente2',\n",
        "    'oldbalanceDest':'saldo_inicial_c2',\n",
        "    'newbalanceDest':'novo_saldo_c2'\n",
        "}"
      ],
      "metadata": {
        "id": "MbSqDZOST3Jd"
      },
      "execution_count": null,
      "outputs": []
    },
    {
      "cell_type": "code",
      "source": [
        "df = df.rename(columns=colunas)\n",
        "df.head()"
      ],
      "metadata": {
        "id": "QlwPtNByUmjO"
      },
      "execution_count": null,
      "outputs": []
    },
    {
      "cell_type": "code",
      "source": [
        "df.describe()"
      ],
      "metadata": {
        "id": "t94VxX74Uwj2"
      },
      "execution_count": null,
      "outputs": []
    },
    {
      "cell_type": "code",
      "source": [
        "df.describe().T"
      ],
      "metadata": {
        "id": "1X-4kKViU4iN"
      },
      "execution_count": null,
      "outputs": []
    },
    {
      "cell_type": "markdown",
      "source": [
        "### Verificando valores nulos"
      ],
      "metadata": {
        "id": "OTtnV9hZWKVH"
      }
    },
    {
      "cell_type": "code",
      "source": [
        "df.isnull().sum()"
      ],
      "metadata": {
        "id": "jz0bBIkdVly9"
      },
      "execution_count": null,
      "outputs": []
    },
    {
      "cell_type": "markdown",
      "source": [
        "### Encoding"
      ],
      "metadata": {
        "id": "7YZ_CfiUWvrR"
      }
    },
    {
      "cell_type": "code",
      "source": [
        "# Instalando o pandas profiling\n",
        "!pip install ydata-profiling"
      ],
      "metadata": {
        "id": "4oicxnNJWQPu",
        "collapsed": true
      },
      "execution_count": null,
      "outputs": []
    },
    {
      "cell_type": "code",
      "source": [
        "from ydata_profiling import ProfileReport\n",
        "\n",
        "ProfileReport(df)"
      ],
      "metadata": {
        "id": "2gjf8kBjW90F",
        "collapsed": true
      },
      "execution_count": null,
      "outputs": []
    },
    {
      "cell_type": "code",
      "source": [
        "df_dumm = pd.get_dummies(pd.Series(list(df['tipo'])),dtype=float)\n",
        "df_dumm.head()"
      ],
      "metadata": {
        "id": "8N6mzbBO-G7j"
      },
      "execution_count": null,
      "outputs": []
    },
    {
      "cell_type": "code",
      "source": [
        "df_dumm_conv = ['CASH_IN', 'CASH_OUT', 'DEBIT', 'PAYMENT', 'TRANSFER']\n",
        "df_dumm[df_dumm_conv] = df_dumm[df_dumm_conv].astype(float)\n",
        "df_dumm.head()"
      ],
      "metadata": {
        "id": "Iug_YquJCRhk"
      },
      "execution_count": null,
      "outputs": []
    },
    {
      "cell_type": "code",
      "source": [
        "df = pd.merge(df,df_dumm,left_index=True,right_index=True)\n",
        "df.head()"
      ],
      "metadata": {
        "id": "5orZDBGNCW1u"
      },
      "execution_count": null,
      "outputs": []
    },
    {
      "cell_type": "markdown",
      "source": [
        "Tive que fazer essa manobra pra poder juntar dois dataset e converter os valores das colunas CASH_IN, CASH_OUT, DEBIT, PAYMENT e TRANSFER."
      ],
      "metadata": {
        "id": "_tdSj1_REIfM"
      }
    },
    {
      "cell_type": "code",
      "source": [
        "df = df.drop(['cliente1', 'cliente2', 'possivel_fraude'], axis=1)\n",
        "df.head()"
      ],
      "metadata": {
        "id": "zX0jymVFETa0"
      },
      "execution_count": null,
      "outputs": []
    },
    {
      "cell_type": "code",
      "source": [
        "df=df.drop(['tipo'], axis=1)\n",
        "df.head()"
      ],
      "metadata": {
        "id": "jicriikQFL3N"
      },
      "execution_count": null,
      "outputs": []
    },
    {
      "cell_type": "markdown",
      "source": [
        "### Regressão Logística"
      ],
      "metadata": {
        "id": "rRpn155AFTHP"
      }
    },
    {
      "cell_type": "code",
      "source": [
        "x = df.drop('fraude', axis=1)\n",
        "y = df['fraude']"
      ],
      "metadata": {
        "id": "x9AX94ZHFQS8"
      },
      "execution_count": null,
      "outputs": []
    },
    {
      "cell_type": "code",
      "source": [
        "from sklearn.model_selection import train_test_split\n",
        "\n",
        "SEED = 42\n",
        "\n",
        "x_train, x_test, y_train, y_test = train_test_split(x, y, test_size=0.25, random_state=SEED)"
      ],
      "metadata": {
        "id": "iAo9KIFeFusr"
      },
      "execution_count": null,
      "outputs": []
    },
    {
      "cell_type": "code",
      "source": [
        "from sklearn.linear_model import LogisticRegression\n",
        "from sklearn import metrics\n",
        "\n",
        "lr = LogisticRegression(max_iter = 1000, random_state=SEED)\n",
        "lr.fit(x_train, y_train)\n",
        "y_pred = lr.predict(x_test)\n",
        "\n",
        "print('Acurácia: ', metrics.accuracy_score(y_test, y_pred))\n",
        "print('Precisão: ', metrics.precision_score(y_test, y_pred))\n",
        "print('Recall: ', metrics.recall_score(y_test, y_pred))\n",
        "print('F1: ', metrics.f1_score(y_test, y_pred))"
      ],
      "metadata": {
        "id": "jTazF7WiGMk7"
      },
      "execution_count": null,
      "outputs": []
    },
    {
      "cell_type": "code",
      "source": [
        "from sklearn.metrics import confusion_matrix\n",
        "from sklearn.datasets import make_classification\n",
        "from sklearn.metrics import ConfusionMatrixDisplay\n",
        "%matplotlib inline\n",
        "\n",
        "cm = confusion_matrix(y_test, y_pred)\n",
        "disp = ConfusionMatrixDisplay(confusion_matrix=cm)\n",
        "disp.plot()"
      ],
      "metadata": {
        "id": "UP_El7hCHY_b"
      },
      "execution_count": null,
      "outputs": []
    },
    {
      "cell_type": "code",
      "source": [
        "y_pred_proba = lr.predict_proba(x_test)[::,1]\n",
        "fpr, tpr, _ = metrics.roc_curve(y_test, y_pred_proba)\n",
        "auc = metrics.roc_auc_score(y_test, y_pred_proba)\n",
        "\n",
        "plt.rcParams['figure.figsize'] = (12,8)\n",
        "plt.plot(fpr, tpr, label=\"LR, auc=\"+str(auc))\n",
        "plt.plot([0,1], [0,1], color = 'red', lw=2, linestyle='--')\n",
        "plt.legend(loc=4)"
      ],
      "metadata": {
        "id": "nG4A5j7gIMXk"
      },
      "execution_count": null,
      "outputs": []
    },
    {
      "cell_type": "markdown",
      "source": [
        "Aqui enxergamos que nossas classes estão desbalanceadas, neste caso precisamos balancear as classes para não deixar o modelo tendencioso.\n",
        "\n",
        "* UNDERSAMPLING = reduzir dados de não fraude para 116 (errado)\n",
        "* OVERSAMPLING = copiar os dados da classe minoritária até chegar no valor da classe majoritária,mas tem problemas por exemplo quando aplicamos a técnica teoricamente colocamos valores sinteticos para treinar nosso modelo, ou seja, não são valores reais.\n",
        "\n",
        "SMOTE = Algoritmo KNN (aproximação dos vizinhos)\n"
      ],
      "metadata": {
        "id": "dShbHRvCJBLn"
      }
    },
    {
      "cell_type": "markdown",
      "source": [
        "### Balanceamento de dados"
      ],
      "metadata": {
        "id": "XNSWj-mfJ8oC"
      }
    },
    {
      "cell_type": "code",
      "source": [
        "!pip install -U imbalanced-learn"
      ],
      "metadata": {
        "id": "L9wThRvNIrp-"
      },
      "execution_count": null,
      "outputs": []
    },
    {
      "cell_type": "code",
      "source": [
        "from imblearn.over_sampling import SMOTE\n",
        "\n",
        "smote = SMOTE(random_state=SEED)"
      ],
      "metadata": {
        "id": "2spptQp5KBZe"
      },
      "execution_count": null,
      "outputs": []
    },
    {
      "cell_type": "code",
      "source": [
        "x_resampled, y_resampled = smote.fit_resample(x, y)"
      ],
      "metadata": {
        "id": "vlF6pFjBKmjK"
      },
      "execution_count": null,
      "outputs": []
    },
    {
      "cell_type": "code",
      "source": [
        "df_balanced = pd.concat([x_resampled, y_resampled], axis=1)\n",
        "df_balanced.head()"
      ],
      "metadata": {
        "id": "QWzk5IBYKn8e"
      },
      "execution_count": null,
      "outputs": []
    },
    {
      "cell_type": "code",
      "source": [
        "df_balanced.groupby('fraude').count()"
      ],
      "metadata": {
        "id": "csD42PvqKtF2"
      },
      "execution_count": null,
      "outputs": []
    },
    {
      "cell_type": "code",
      "source": [
        "df_balanced.describe()"
      ],
      "metadata": {
        "id": "LFKxFIcQm9cD"
      },
      "execution_count": null,
      "outputs": []
    },
    {
      "cell_type": "code",
      "source": [
        "df_balanced"
      ],
      "metadata": {
        "id": "AHm5mEmlqOj3"
      },
      "execution_count": null,
      "outputs": []
    },
    {
      "cell_type": "markdown",
      "source": [
        "### Novo teste de Regressão Logistica"
      ],
      "metadata": {
        "id": "WOq8nmS4K_6L"
      }
    },
    {
      "cell_type": "code",
      "source": [
        "x = df_balanced.drop('fraude', axis=1)\n",
        "y = df_balanced['fraude']"
      ],
      "metadata": {
        "id": "9YZxhyhRK0w2"
      },
      "execution_count": null,
      "outputs": []
    },
    {
      "cell_type": "code",
      "source": [
        "from sklearn.model_selection import train_test_split\n",
        "\n",
        "SEED = 42\n",
        "\n",
        "x_train, x_test, y_train, y_test = train_test_split(x, y, test_size=0.25, random_state=SEED)"
      ],
      "metadata": {
        "id": "UtrN702tLZVv"
      },
      "execution_count": null,
      "outputs": []
    },
    {
      "cell_type": "code",
      "source": [
        "from sklearn.linear_model import LogisticRegression\n",
        "from sklearn import metrics\n",
        "\n",
        "lr = LogisticRegression(solver='lbfgs',class_weight='balanced', max_iter=10000)\n",
        "\n",
        "lr.fit(x_train, y_train)\n",
        "y_pred=lr.predict(x_test)\n",
        "\n",
        "print(\"Acurácia:\", metrics.accuracy_score(y_test, y_pred))\n",
        "print(\"Precisão:\", metrics.precision_score(y_test, y_pred))\n",
        "print(\"Recall:\", metrics.recall_score(y_test, y_pred))\n",
        "print(\"F1:\", metrics.f1_score(y_test, y_pred))"
      ],
      "metadata": {
        "id": "jpWacpPmLgnk"
      },
      "execution_count": null,
      "outputs": []
    },
    {
      "cell_type": "code",
      "source": [
        "cm = confusion_matrix(y_test, y_pred)\n",
        "disp = ConfusionMatrixDisplay(confusion_matrix=cm)\n",
        "disp.plot()"
      ],
      "metadata": {
        "id": "QuIAMM3KLr0Q"
      },
      "execution_count": null,
      "outputs": []
    },
    {
      "cell_type": "code",
      "source": [
        "y_pred_proba = lr.predict_proba(x_test)[::,1]\n",
        "fpr, tpr, _ = metrics.roc_curve(y_test, y_pred_proba)\n",
        "auc = metrics.roc_auc_score(y_test, y_pred_proba)\n",
        "\n",
        "plt.rcParams['figure.figsize'] = (12,8)\n",
        "plt.plot(fpr, tpr, label=\"LR, auc=\"+str(auc))\n",
        "plt.plot([0,1], [0,1], color = 'red', lw=2, linestyle='--')\n",
        "plt.legend(loc=4)"
      ],
      "metadata": {
        "id": "IjKZj3pbLtkY"
      },
      "execution_count": null,
      "outputs": []
    },
    {
      "cell_type": "markdown",
      "source": [
        "### Formulando as hipóteses"
      ],
      "metadata": {
        "id": "xRFbpvfqryRw"
      }
    },
    {
      "cell_type": "code",
      "source": [
        "ProfileReport(df_balanced)"
      ],
      "metadata": {
        "id": "ROhFfzyQr0kr"
      },
      "execution_count": null,
      "outputs": []
    },
    {
      "cell_type": "markdown",
      "source": [
        "** Inserir as hipóteses**\n",
        "- pegando como paramentro a coluna fraude, a correlação mais alta está com CASH_IN, CASHOUT, PAYMENT, tempo e TRANSFER\n",
        "- As colunas novo saldoc1 e c2 tem baixa correlação e também saldo inicial c1 e c2, logo esses valores não são importantes para a fraude ocorrer."
      ],
      "metadata": {
        "id": "pXB-dbKItbQR"
      }
    },
    {
      "cell_type": "markdown",
      "source": [
        "### Árvore de decisão"
      ],
      "metadata": {
        "id": "97OlU8nSuphE"
      }
    },
    {
      "cell_type": "code",
      "source": [
        "from sklearn.tree import DecisionTreeClassifier\n",
        "\n",
        "dt = DecisionTreeClassifier(max_depth=5, random_state=SEED)"
      ],
      "metadata": {
        "id": "r40DtuIavk9c"
      },
      "execution_count": null,
      "outputs": []
    },
    {
      "cell_type": "code",
      "source": [
        "model = dt.fit(x_train, y_train)\n",
        "y_pred = dt.predict(x_test)\n",
        "\n",
        "print(\"Acurácia:\", metrics.accuracy_score(y_test, y_pred))\n",
        "print(\"Precisão:\", metrics.precision_score(y_test, y_pred))\n",
        "print(\"Recall:\", metrics.recall_score(y_test, y_pred))\n",
        "print(\"F1:\", metrics.f1_score(y_test, y_pred))"
      ],
      "metadata": {
        "id": "95Pm_u81vmE9"
      },
      "execution_count": null,
      "outputs": []
    },
    {
      "cell_type": "code",
      "source": [
        "cm_decision = confusion_matrix(y_test, y_pred)\n",
        "disp_decision = ConfusionMatrixDisplay(confusion_matrix=cm_decision)\n",
        "disp_decision.plot()"
      ],
      "metadata": {
        "id": "GuEHmka2vycw"
      },
      "execution_count": null,
      "outputs": []
    },
    {
      "cell_type": "code",
      "source": [
        "y_pred_proba = dt.predict_proba(x_test)[::,1]\n",
        "fpr, tpr, _ = metrics.roc_curve(y_test, y_pred_proba)\n",
        "auc = metrics.roc_auc_score(y_test, y_pred_proba)\n",
        "\n",
        "plt.rcParams['figure.figsize'] = (12,8)\n",
        "plt.plot(fpr, tpr, label=\"dt, auc=\"+str(auc))\n",
        "plt.plot([0,1], [0,1], color = 'red', lw=2, linestyle='--')\n",
        "plt.legend(loc=4)"
      ],
      "metadata": {
        "id": "mgYZVDmewC28"
      },
      "execution_count": null,
      "outputs": []
    },
    {
      "cell_type": "markdown",
      "source": [
        "### Random Forest"
      ],
      "metadata": {
        "id": "EJ51haa1wtjK"
      }
    },
    {
      "cell_type": "code",
      "source": [
        "from sklearn.ensemble import RandomForestClassifier\n",
        "\n",
        "rf = RandomForestClassifier(max_depth=5, random_state=SEED, n_estimators=120)"
      ],
      "metadata": {
        "id": "VMCesHZgwvBd"
      },
      "execution_count": null,
      "outputs": []
    },
    {
      "cell_type": "code",
      "source": [
        "model = rf.fit(x_train, y_train)\n",
        "y_pred = rf.predict(x_test)\n",
        "\n",
        "print(\"Acurácia:\", metrics.accuracy_score(y_test, y_pred))\n",
        "print(\"Precisão:\", metrics.precision_score(y_test, y_pred))\n",
        "print(\"Recall:\", metrics.recall_score(y_test, y_pred))\n",
        "print(\"F1:\", metrics.f1_score(y_test, y_pred))"
      ],
      "metadata": {
        "id": "NxgmBFxuxbT9"
      },
      "execution_count": null,
      "outputs": []
    },
    {
      "cell_type": "code",
      "source": [
        "cm_random = confusion_matrix(y_test, y_pred)\n",
        "disp_decision = ConfusionMatrixDisplay(confusion_matrix=cm_random)\n",
        "disp_decision.plot()"
      ],
      "metadata": {
        "id": "Q04xROQ7yP-X"
      },
      "execution_count": null,
      "outputs": []
    },
    {
      "cell_type": "code",
      "source": [
        "y_pred_proba = rf.predict_proba(x_test)[::,1]\n",
        "fpr, tpr, _ = metrics.roc_curve(y_test, y_pred_proba)\n",
        "auc = metrics.roc_auc_score(y_test, y_pred_proba)\n",
        "\n",
        "plt.rcParams['figure.figsize'] = (12,8)\n",
        "plt.plot(fpr, tpr, label=\"rf, auc=\"+str(auc))\n",
        "plt.plot([0,1], [0,1], color = 'red', lw=2, linestyle='--')\n",
        "plt.legend(loc=4)"
      ],
      "metadata": {
        "id": "4mG_xuEBzExk"
      },
      "execution_count": null,
      "outputs": []
    },
    {
      "cell_type": "markdown",
      "source": [
        "### Análise de Métricas"
      ],
      "metadata": {
        "id": "0dK6ZoD7z3Sb"
      }
    },
    {
      "cell_type": "code",
      "source": [
        "classifiers = [\n",
        "    LogisticRegression(max_iter=1000, random_state=SEED),\n",
        "    DecisionTreeClassifier(max_depth=5, random_state=SEED),\n",
        "    RandomForestClassifier(max_depth=5, random_state=SEED)]"
      ],
      "metadata": {
        "id": "tYQrjABEzHQd"
      },
      "execution_count": null,
      "outputs": []
    },
    {
      "cell_type": "code",
      "source": [
        "for clf in classifiers:\n",
        "  clf.fit(x_train, y_train)\n",
        "  name=clf.__class__.__name__\n",
        "  print(\"=\"*30)\n",
        "  print(name)\n",
        "  print('****Results****')\n",
        "  y_pred = clf.predict(x_test)\n",
        "  print(\"Accuracy:\", metrics.accuracy_score(y_test, y_pred))\n",
        "  print(\"Precision:\", metrics.precision_score(y_test, y_pred))\n",
        "  print(\"Recall:\", metrics.recall_score(y_test, y_pred))\n",
        "  print(\"F1:\", metrics.f1_score(y_test, y_pred))\n",
        "  print(\"=\"*30)\n",
        "\n",
        "  cm = confusion_matrix(y_test, y_pred)\n",
        "  disp = ConfusionMatrixDisplay(confusion_matrix=cm)\n",
        "  disp.plot()"
      ],
      "metadata": {
        "id": "0PAQmiCu0VZP"
      },
      "execution_count": null,
      "outputs": []
    },
    {
      "cell_type": "markdown",
      "source": [
        "### Melhorando o modelo Random Forest"
      ],
      "metadata": {
        "id": "xycmBxdz4WbF"
      }
    },
    {
      "cell_type": "code",
      "source": [
        "n_estimators = np.arange(20,200, step=20)\n",
        "criterion = [\"gini\", \"entropy\"]\n",
        "max_features = [\"auto\", \"sqrt\", \"log2\"]\n",
        "max_depth = list(np.arange(2, 10, step=1))\n",
        "min_samples_split = list(np.arange(2, 10, step=1))\n",
        "min_samples_leaf = [1,2,4]\n",
        "bootstrap = [True, False]"
      ],
      "metadata": {
        "id": "gdC0pZAk3VY5"
      },
      "execution_count": null,
      "outputs": []
    },
    {
      "cell_type": "code",
      "source": [
        "param_grid = {\n",
        "    'n_estimators': n_estimators,\n",
        "    'criterion': criterion,\n",
        "    'max_features': max_features,\n",
        "    'max_depth': max_depth,\n",
        "    'min_samples_split': min_samples_split,\n",
        "    'min_samples_leaf': min_samples_leaf,\n",
        "    'bootstrap': bootstrap\n",
        "}"
      ],
      "metadata": {
        "id": "j83tDdJI5zby"
      },
      "execution_count": null,
      "outputs": []
    },
    {
      "cell_type": "code",
      "source": [
        "from sklearn.model_selection import RandomizedSearchCV\n",
        "\n",
        "SEED = 70\n",
        "\n",
        "rforest = RandomForestClassifier(random_state=SEED)"
      ],
      "metadata": {
        "id": "tpFeVwdu6BEs"
      },
      "execution_count": null,
      "outputs": []
    },
    {
      "cell_type": "code",
      "source": [
        "random_cv = RandomizedSearchCV(\n",
        "    rforest, param_grid, n_iter=5, cv=3, scoring=\"recall\", n_jobs=-1, random_state=SEED\n",
        ")"
      ],
      "metadata": {
        "id": "pdhDCmnz6YFR"
      },
      "execution_count": null,
      "outputs": []
    },
    {
      "cell_type": "code",
      "source": [
        "%%time\n",
        "rcv = random_cv.fit(x, y)"
      ],
      "metadata": {
        "id": "E2PBA4td7MFv"
      },
      "execution_count": null,
      "outputs": []
    },
    {
      "cell_type": "code",
      "source": [
        "pd.DataFrame(rcv.cv_results_)"
      ],
      "metadata": {
        "id": "DosVh2rI7aJp"
      },
      "execution_count": null,
      "outputs": []
    },
    {
      "cell_type": "code",
      "source": [
        "rcv.best_params_"
      ],
      "metadata": {
        "id": "MJfbSXSf-TV3"
      },
      "execution_count": null,
      "outputs": []
    },
    {
      "cell_type": "markdown",
      "source": [
        "### Resultados Finais"
      ],
      "metadata": {
        "id": "bw-o5AEU-5Pn"
      }
    },
    {
      "cell_type": "code",
      "source": [
        "rfn = RandomForestClassifier(**rcv.best_params_, random_state=SEED)\n",
        "\n",
        "model = rfn.fit(x_train, y_train)\n",
        "y_pred = rfn.predict(x_test)"
      ],
      "metadata": {
        "id": "TRP_MYiX-jSi"
      },
      "execution_count": null,
      "outputs": []
    },
    {
      "cell_type": "code",
      "source": [
        "print(\"Acurácia:\", metrics.accuracy_score(y_test, y_pred))\n",
        "print(\"Precisão:\", metrics.precision_score(y_test, y_pred))\n",
        "print(\"Recall:\", metrics.recall_score(y_test, y_pred))\n",
        "print(\"F1:\", metrics.f1_score(y_test, y_pred))"
      ],
      "metadata": {
        "id": "mbBcmcqi_FS5"
      },
      "execution_count": null,
      "outputs": []
    },
    {
      "cell_type": "code",
      "source": [
        "cm = confusion_matrix(y_test, y_pred)\n",
        "disp = ConfusionMatrixDisplay(confusion_matrix=cm)\n",
        "disp.plot()"
      ],
      "metadata": {
        "id": "__5qnR6n_zj1"
      },
      "execution_count": null,
      "outputs": []
    }
  ]
}